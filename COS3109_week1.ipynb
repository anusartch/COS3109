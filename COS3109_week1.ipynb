{
  "nbformat": 4,
  "nbformat_minor": 0,
  "metadata": {
    "colab": {
      "name": "COS3109_week1.ipynb",
      "provenance": [],
      "collapsed_sections": [],
      "toc_visible": true,
      "authorship_tag": "ABX9TyOrhISKoyrFV2NCMfbUK8+v",
      "include_colab_link": true
    },
    "kernelspec": {
      "name": "python3",
      "display_name": "Python 3"
    },
    "language_info": {
      "name": "python"
    }
  },
  "cells": [
    {
      "cell_type": "markdown",
      "metadata": {
        "id": "view-in-github",
        "colab_type": "text"
      },
      "source": [
        "<a href=\"https://colab.research.google.com/github/anusartch/COS3109_week1/blob/main/COS3109_week1.ipynb\" target=\"_parent\"><img src=\"https://colab.research.google.com/assets/colab-badge.svg\" alt=\"Open In Colab\"/></a>"
      ]
    },
    {
      "cell_type": "markdown",
      "source": [
        "# **Intro to Python**"
      ],
      "metadata": {
        "id": "RG8sEBzQt08D"
      }
    },
    {
      "cell_type": "markdown",
      "source": [
        "## 1. Hello World"
      ],
      "metadata": {
        "id": "AzMtj28oxE6o"
      }
    },
    {
      "cell_type": "code",
      "source": [
        "# Never mind this statement, for compatibility reasons\n",
        "from __future__ import absolute_import, division, print_function, unicode_literals\n",
        "\n",
        "print(\"Hello World\")"
      ],
      "metadata": {
        "colab": {
          "base_uri": "https://localhost:8080/"
        },
        "id": "EBwlm5UiuH16",
        "outputId": "e438dbe0-8d8a-4721-f19b-6cd8dd0bcf67"
      },
      "execution_count": null,
      "outputs": [
        {
          "output_type": "stream",
          "name": "stdout",
          "text": [
            "Hello World\n"
          ]
        }
      ]
    },
    {
      "cell_type": "markdown",
      "source": [
        "## 2. Function, Conditionals, and Iteration"
      ],
      "metadata": {
        "id": "Z4-8JzusVSld"
      }
    },
    {
      "cell_type": "markdown",
      "source": [
        "### Function and Condition"
      ],
      "metadata": {
        "id": "yobkLYI1xWp8"
      }
    },
    {
      "cell_type": "code",
      "source": [
        "def HelloWorldXY(x, y):\n",
        "  if (x < 10):\n",
        "    print(\"Hello World, x was < 10\")\n",
        "  elif (x < 20):\n",
        "    print(\"Hello World, x was >= 10 but < 20\")\n",
        "  else:\n",
        "    print(\"Hello World, x was >= 20\")\n",
        "  return x + y"
      ],
      "metadata": {
        "id": "BvUJv4LJW3pI"
      },
      "execution_count": null,
      "outputs": []
    },
    {
      "cell_type": "code",
      "source": [
        "print(HelloWorldXY(1, 2))"
      ],
      "metadata": {
        "colab": {
          "base_uri": "https://localhost:8080/"
        },
        "id": "IUx6Tbbav5Lm",
        "outputId": "be5da96f-3013-4742-f925-4e05200e1dd8"
      },
      "execution_count": null,
      "outputs": [
        {
          "output_type": "stream",
          "name": "stdout",
          "text": [
            "Hello World, x was < 10\n",
            "3\n"
          ]
        }
      ]
    },
    {
      "cell_type": "markdown",
      "source": [
        "### Iteration"
      ],
      "metadata": {
        "id": "lJiPH9CsxF8K"
      }
    },
    {
      "cell_type": "code",
      "source": [
        "for i in range(8, 25, 5): # i=8, 13, 18, 23 (start, stop, step)\n",
        "  print(\"--- Now running with i: {}\".format(i))\n",
        "  r = HelloWorldXY(i,i)\n",
        "  print(\"Result from HelloWorld: {}\".format(r))"
      ],
      "metadata": {
        "colab": {
          "base_uri": "https://localhost:8080/"
        },
        "id": "7mCjq4KBxrlk",
        "outputId": "40c8bf27-3754-47a4-a578-f04d033da1c7"
      },
      "execution_count": null,
      "outputs": [
        {
          "output_type": "stream",
          "name": "stdout",
          "text": [
            "--- Now running with i: 8\n",
            "Hello World, x was < 10\n",
            "Result from HelloWorld: 16\n",
            "--- Now running with i: 13\n",
            "Hello World, x was >= 10 but < 20\n",
            "Result from HelloWorld: 26\n",
            "--- Now running with i: 18\n",
            "Hello World, x was >= 10 but < 20\n",
            "Result from HelloWorld: 36\n",
            "--- Now running with i: 23\n",
            "Hello World, x was >= 20\n",
            "Result from HelloWorld: 46\n"
          ]
        }
      ]
    },
    {
      "cell_type": "markdown",
      "source": [
        "## 3. Various kinds of loops starting at 0 to 2"
      ],
      "metadata": {
        "id": "Iskd_lMO3-Wd"
      }
    },
    {
      "cell_type": "code",
      "source": [
        "print(\"Iterate over the items. `range(2)` is like a list [0,1].\")\n",
        "for i in range(2):\n",
        "  print(i)"
      ],
      "metadata": {
        "colab": {
          "base_uri": "https://localhost:8080/"
        },
        "id": "-U5NXmHR4MZG",
        "outputId": "42bbe26e-ee0f-488a-b66e-1adf1615604a"
      },
      "execution_count": null,
      "outputs": [
        {
          "output_type": "stream",
          "name": "stdout",
          "text": [
            "Iterate over the items. `range(2)` is like a list [0,1].\n",
            "0\n",
            "1\n"
          ]
        }
      ]
    },
    {
      "cell_type": "code",
      "source": [
        "print(\"Iterate over an actual list.\")\n",
        "for i in [0,1]:\n",
        "  print(i)"
      ],
      "metadata": {
        "colab": {
          "base_uri": "https://localhost:8080/"
        },
        "id": "6QCzFyGD4VSs",
        "outputId": "6d936143-9a4e-4ee0-fffc-87a82a5bb037"
      },
      "execution_count": null,
      "outputs": [
        {
          "output_type": "stream",
          "name": "stdout",
          "text": [
            "Iterate over an actual list.\n",
            "0\n",
            "1\n"
          ]
        }
      ]
    },
    {
      "cell_type": "code",
      "source": [
        "print(\"While works\")\n",
        "i = 0\n",
        "while i < 2:\n",
        "  print(i)\n",
        "  i += 1"
      ],
      "metadata": {
        "colab": {
          "base_uri": "https://localhost:8080/"
        },
        "id": "-HsWlPL64Vch",
        "outputId": "2f7ac384-53dd-43b0-d86f-cbddcb35597d"
      },
      "execution_count": null,
      "outputs": [
        {
          "output_type": "stream",
          "name": "stdout",
          "text": [
            "While works\n",
            "0\n",
            "1\n"
          ]
        }
      ]
    },
    {
      "cell_type": "markdown",
      "source": [
        "## 4. Numpy and lists"
      ],
      "metadata": {
        "id": "BkbpaVt5470D"
      }
    },
    {
      "cell_type": "markdown",
      "source": [
        "**Numpy** as np is the fundamental package for scientific computing with Python."
      ],
      "metadata": {
        "id": "-jX4sSYt6IdI"
      }
    },
    {
      "cell_type": "markdown",
      "source": [
        "**Lists (Array)** are data structure in Python that is a mutable, or changeable, ordered sequence of elements. Each\n",
        "element or value that is inside of a list is called an item. Just as strings are defined as characters between quotes,\n",
        "lists are defined by having values between square brackets [ ]."
      ],
      "metadata": {
        "id": "t4X2Unwe6PhI"
      }
    },
    {
      "cell_type": "code",
      "source": [
        "sea_creatures = ['shark', 'cuttlefish', 'squid', 'mantis shrimp', 'anemone']"
      ],
      "metadata": {
        "id": "hYpAHii05Ddp"
      },
      "execution_count": null,
      "outputs": []
    },
    {
      "cell_type": "code",
      "source": [
        "sea_creatures[0] = 'sharkkk'\n",
        "sea_creatures[2] = 'squiddd'\n",
        "sea_creatures[4] = 'anemoneee'\n",
        "\n",
        "print(sea_creatures)"
      ],
      "metadata": {
        "colab": {
          "base_uri": "https://localhost:8080/"
        },
        "id": "FBSOGD5P6rhs",
        "outputId": "bc038341-bc50-4ca4-99b0-139cafe48c5f"
      },
      "execution_count": null,
      "outputs": [
        {
          "output_type": "stream",
          "name": "stdout",
          "text": [
            "['sharkkk', 'cuttlefish', 'squiddd', 'mantis shrimp', 'anemoneee']\n"
          ]
        }
      ]
    },
    {
      "cell_type": "markdown",
      "source": [
        "### Create a numpy array, and append an element"
      ],
      "metadata": {
        "id": "NfMgVU_nBFVu"
      }
    },
    {
      "cell_type": "code",
      "source": [
        "import numpy as np # Make numpy available using np.\n",
        "\n",
        "# Create a numpy array, and append an element\n",
        "a = np.array([\"Hello\", \"World\"])\n",
        "a = np.append(a, \"!\")\n",
        "print(\"Current array: {}\".format(a))\n",
        "print(\"Printing each element\")\n",
        "for i in a:\n",
        "  print(i)"
      ],
      "metadata": {
        "colab": {
          "base_uri": "https://localhost:8080/"
        },
        "id": "sCAQHkhqBT5B",
        "outputId": "d30fe948-6055-4c33-df7c-e3cedecbb057"
      },
      "execution_count": null,
      "outputs": [
        {
          "output_type": "stream",
          "name": "stdout",
          "text": [
            "Current array: ['Hello' 'World' '!']\n",
            "Printing each element\n",
            "Hello\n",
            "World\n",
            "!\n"
          ]
        }
      ]
    },
    {
      "cell_type": "code",
      "source": [
        "print(\"Printing each element and their index\")\n",
        "for i, e in enumerate(a):\n",
        "  print(\"Index: {}, was: {}\".format(i, e))"
      ],
      "metadata": {
        "colab": {
          "base_uri": "https://localhost:8080/"
        },
        "id": "3mgqV7e7DO08",
        "outputId": "23dff82f-85ee-4c45-e23c-16825219dba2"
      },
      "execution_count": null,
      "outputs": [
        {
          "output_type": "stream",
          "name": "stdout",
          "text": [
            "Printing each element and their index\n",
            "Index: 0, was: Hello\n",
            "Index: 1, was: World\n",
            "Index: 2, was: !\n"
          ]
        }
      ]
    },
    {
      "cell_type": "markdown",
      "source": [
        "### Some basic math on arrays"
      ],
      "metadata": {
        "id": "IzawLgJHD6UD"
      }
    },
    {
      "cell_type": "code",
      "source": [
        "print(\"Showing some basic math on arrays\")\n",
        "b = np.array([0,1,4,3,2])\n",
        "print(\"Max: {}\".format(np.max(b)))\n",
        "print(\"Average: {}\".format(np.average(b)))\n",
        "print(\"Max index: {}\".format(np.argmax(b)))"
      ],
      "metadata": {
        "colab": {
          "base_uri": "https://localhost:8080/"
        },
        "id": "JMM-mWZ-EHwv",
        "outputId": "684e3054-77ea-4353-8e66-eb727aaef0cc"
      },
      "execution_count": null,
      "outputs": [
        {
          "output_type": "stream",
          "name": "stdout",
          "text": [
            "Showing some basic math on arrays\n",
            "Max: 4\n",
            "Average: 2.0\n",
            "Max index: 2\n"
          ]
        }
      ]
    },
    {
      "cell_type": "markdown",
      "source": [
        "### Type and Dimension"
      ],
      "metadata": {
        "id": "jYZbCzLJFB6M"
      }
    },
    {
      "cell_type": "code",
      "source": [
        "print(\"You can print the type of anything\")\n",
        "print(\"Type of b: {}, type of b[0]: {}\".format(type(b), type(b[0])))"
      ],
      "metadata": {
        "colab": {
          "base_uri": "https://localhost:8080/"
        },
        "id": "3WklR3fHE_Ze",
        "outputId": "802e8f2a-238e-42a9-a86c-df2156c9812a"
      },
      "execution_count": null,
      "outputs": [
        {
          "output_type": "stream",
          "name": "stdout",
          "text": [
            "You can print the type of anything\n",
            "Type of b: <class 'numpy.ndarray'>, type of b[0]: <class 'numpy.int64'>\n"
          ]
        }
      ]
    },
    {
      "cell_type": "code",
      "source": [
        "print(\"Use numpy to create a [3,3] dimension array with random number\")\n",
        "c = np.random.rand(3, 3)\n",
        "print(c)"
      ],
      "metadata": {
        "colab": {
          "base_uri": "https://localhost:8080/"
        },
        "id": "f1LUakkMF5Py",
        "outputId": "c821c82d-2223-480d-92ae-8b8c26b7362a"
      },
      "execution_count": null,
      "outputs": [
        {
          "output_type": "stream",
          "name": "stdout",
          "text": [
            "Use numpy to create a [3,3] dimension array with random number\n",
            "[[0.02014352 0.94289343 0.05811778]\n",
            " [0.77160084 0.20405656 0.48281183]\n",
            " [0.40296585 0.1680607  0.36253883]]\n"
          ]
        }
      ]
    },
    {
      "cell_type": "code",
      "source": [
        "print(\"You can print the dimensions of arrays\")\n",
        "print(\"Shape of a: {}\".format(a.shape))\n",
        "print(\"Shape of b: {}\".format(b.shape))\n",
        "print(\"Shape of c: {}\".format(c.shape))"
      ],
      "metadata": {
        "colab": {
          "base_uri": "https://localhost:8080/"
        },
        "id": "qQPRwCgHGlkY",
        "outputId": "0587edbd-0ac8-42db-d007-3db487c02fbf"
      },
      "execution_count": null,
      "outputs": [
        {
          "output_type": "stream",
          "name": "stdout",
          "text": [
            "You can print the dimensions of arrays\n",
            "Shape of a: (3,)\n",
            "Shape of b: (5,)\n",
            "Shape of c: (3, 3)\n"
          ]
        }
      ]
    },
    {
      "cell_type": "markdown",
      "source": [
        "## 5. Linux commands"
      ],
      "metadata": {
        "id": "UDvvfeqEHWI8"
      }
    },
    {
      "cell_type": "code",
      "source": [
        "print(\"Doing !ls on filesystem\")\n",
        "!ls -l\n",
        "!pwd"
      ],
      "metadata": {
        "colab": {
          "base_uri": "https://localhost:8080/"
        },
        "id": "IqnWppljHmvu",
        "outputId": "f88b71fd-5cdc-4f8d-cab9-8a699d22c047"
      },
      "execution_count": null,
      "outputs": [
        {
          "output_type": "stream",
          "name": "stdout",
          "text": [
            "Doing !ls on filesystem\n",
            "total 4\n",
            "drwxr-xr-x 1 root root 4096 Jul 13 13:43 sample_data\n",
            "/content\n"
          ]
        }
      ]
    },
    {
      "cell_type": "code",
      "source": [
        "print(\"Install numpy\") # Just for test, numpy is actually preinstalled in all Colab instancs\n",
        "!pip install numpy"
      ],
      "metadata": {
        "colab": {
          "base_uri": "https://localhost:8080/"
        },
        "id": "stl60ka1H07i",
        "outputId": "9502ad29-7535-4b78-91d9-75f50fb2a1d2"
      },
      "execution_count": null,
      "outputs": [
        {
          "output_type": "stream",
          "name": "stdout",
          "text": [
            "Install numpy\n",
            "Looking in indexes: https://pypi.org/simple, https://us-python.pkg.dev/colab-wheels/public/simple/\n",
            "Requirement already satisfied: numpy in /usr/local/lib/python3.7/dist-packages (1.21.6)\n"
          ]
        }
      ]
    },
    {
      "cell_type": "markdown",
      "source": [
        "# **Exercise**"
      ],
      "metadata": {
        "id": "BboCmBelILgX"
      }
    },
    {
      "cell_type": "markdown",
      "source": [
        "## 1. Colab: Create a code cell underneath this text cell and add code to:\n",
        "- List the path of the current directory (pwd)\n",
        "- Go to / (cd) and list the content (ls-l)"
      ],
      "metadata": {
        "id": "AJFwt6VvI7eb"
      }
    },
    {
      "cell_type": "code",
      "source": [
        "!pwd"
      ],
      "metadata": {
        "id": "9nRs9hDRJLLX",
        "colab": {
          "base_uri": "https://localhost:8080/"
        },
        "outputId": "fb451c10-27e2-496c-dd82-513b6d7746c4"
      },
      "execution_count": null,
      "outputs": [
        {
          "output_type": "stream",
          "name": "stdout",
          "text": [
            "/content\n"
          ]
        }
      ]
    },
    {
      "cell_type": "code",
      "source": [
        "!cd /content\n",
        "!ls -l"
      ],
      "metadata": {
        "colab": {
          "base_uri": "https://localhost:8080/"
        },
        "id": "9q_D4R0IJTlk",
        "outputId": "0bc8e09e-8508-438a-e216-4250ff25cfd7"
      },
      "execution_count": null,
      "outputs": [
        {
          "output_type": "stream",
          "name": "stdout",
          "text": [
            "total 4\n",
            "drwxr-xr-x 1 root root 4096 Jul 13 13:43 sample_data\n"
          ]
        }
      ]
    },
    {
      "cell_type": "markdown",
      "source": [
        "## 2. Python lists without Numpy: Print the second item in the fruits list:"
      ],
      "metadata": {
        "id": "l_TLphOfpLuz"
      }
    },
    {
      "cell_type": "code",
      "source": [
        "fruits = [\"apple\", \"banana\", \"cherry\"]\n",
        "\n",
        "print(fruits[1])"
      ],
      "metadata": {
        "colab": {
          "base_uri": "https://localhost:8080/"
        },
        "id": "Noqfy0IUpVaT",
        "outputId": "0f01a000-f25d-4e84-e286-4fb1390c12c5"
      },
      "execution_count": 10,
      "outputs": [
        {
          "output_type": "stream",
          "name": "stdout",
          "text": [
            "banana\n"
          ]
        }
      ]
    },
    {
      "cell_type": "markdown",
      "source": [
        "## 3. Change the value from “apple” to “kiwi”, in the fruits list:"
      ],
      "metadata": {
        "id": "xkFja9Wxpgq2"
      }
    },
    {
      "cell_type": "code",
      "source": [
        "fruits[0] = \"kiwi\"\n",
        "\n",
        "print(fruits)"
      ],
      "metadata": {
        "colab": {
          "base_uri": "https://localhost:8080/"
        },
        "id": "y3W-14xDpmfl",
        "outputId": "3c1ba557-5a37-40a9-e518-9e5ac7bbc640"
      },
      "execution_count": 11,
      "outputs": [
        {
          "output_type": "stream",
          "name": "stdout",
          "text": [
            "['kiwi', 'banana', 'cherry']\n"
          ]
        }
      ]
    },
    {
      "cell_type": "markdown",
      "source": [
        "## 4. Use the append method to add “orange” to the fruits list:"
      ],
      "metadata": {
        "id": "tsk1SCXJqLT5"
      }
    },
    {
      "cell_type": "code",
      "source": [
        "fruits.append(\"orange\")\n",
        "\n",
        "print(fruits)"
      ],
      "metadata": {
        "colab": {
          "base_uri": "https://localhost:8080/"
        },
        "id": "cKdr029TqQFJ",
        "outputId": "b8d97a8e-6b5f-426a-8256-1f6ee4555d03"
      },
      "execution_count": 12,
      "outputs": [
        {
          "output_type": "stream",
          "name": "stdout",
          "text": [
            "['kiwi', 'banana', 'cherry', 'orange']\n"
          ]
        }
      ]
    },
    {
      "cell_type": "markdown",
      "source": [
        "## 5. Use the insert method to add “lemon” as the second item in the fruits list:"
      ],
      "metadata": {
        "id": "zR-MqN5arIOS"
      }
    },
    {
      "cell_type": "code",
      "source": [
        "fruits.insert(1, \"lemon\")\n",
        "\n",
        "print(fruits)"
      ],
      "metadata": {
        "colab": {
          "base_uri": "https://localhost:8080/"
        },
        "id": "REUOZjuarNMK",
        "outputId": "7e360b8d-2f8c-491a-87c7-cc47c723306b"
      },
      "execution_count": 13,
      "outputs": [
        {
          "output_type": "stream",
          "name": "stdout",
          "text": [
            "['kiwi', 'lemon', 'banana', 'cherry', 'orange']\n"
          ]
        }
      ]
    },
    {
      "cell_type": "markdown",
      "source": [
        "## 6. Use the remove method to delete “banana” from the fruits list:"
      ],
      "metadata": {
        "id": "nD6xEvKIr5ho"
      }
    },
    {
      "cell_type": "code",
      "source": [
        "fruits.remove(\"banana\")\n",
        "\n",
        "print(fruits)"
      ],
      "metadata": {
        "colab": {
          "base_uri": "https://localhost:8080/"
        },
        "id": "ZEICvXUjr7El",
        "outputId": "7e083af4-28a4-41ef-9196-982bb241c0a0"
      },
      "execution_count": 14,
      "outputs": [
        {
          "output_type": "stream",
          "name": "stdout",
          "text": [
            "['kiwi', 'lemon', 'cherry', 'orange']\n"
          ]
        }
      ]
    },
    {
      "cell_type": "markdown",
      "source": [
        "## 7. Python If...Else: Print “Hello World” if a is greater than b:"
      ],
      "metadata": {
        "id": "o4yYxfvxsGQF"
      }
    },
    {
      "cell_type": "code",
      "source": [
        "a = 50\n",
        "b = 10\n",
        "c = 20\n",
        "d = 20\n",
        "\n",
        "if a > b:\n",
        "  print(\"Hello World\")"
      ],
      "metadata": {
        "colab": {
          "base_uri": "https://localhost:8080/"
        },
        "id": "rGcL7h3TuWw-",
        "outputId": "a992db1b-4716-4b4c-9d7a-b78d46d80ead"
      },
      "execution_count": 17,
      "outputs": [
        {
          "output_type": "stream",
          "name": "stdout",
          "text": [
            "Hello World\n"
          ]
        }
      ]
    },
    {
      "cell_type": "markdown",
      "source": [
        "## 8. Print “Hello World” if a is not equal to b:"
      ],
      "metadata": {
        "id": "81hQKJyjuw5I"
      }
    },
    {
      "cell_type": "code",
      "source": [
        "if a != b:\n",
        "  print(\"Hello World\")"
      ],
      "metadata": {
        "colab": {
          "base_uri": "https://localhost:8080/"
        },
        "id": "44DaV2uAu0xl",
        "outputId": "4cd7f543-5937-4d07-8034-3e446d985c46"
      },
      "execution_count": 18,
      "outputs": [
        {
          "output_type": "stream",
          "name": "stdout",
          "text": [
            "Hello World\n"
          ]
        }
      ]
    },
    {
      "cell_type": "markdown",
      "source": [
        "## 9. Print “Yes” if a is equal to b, otherwise print “No”:"
      ],
      "metadata": {
        "id": "8UMIcMo5vO7B"
      }
    },
    {
      "cell_type": "code",
      "source": [
        "if a == b:\n",
        "  print(\"Yes\")\n",
        "else:\n",
        "  print(\"No\")"
      ],
      "metadata": {
        "colab": {
          "base_uri": "https://localhost:8080/"
        },
        "id": "tohTb4rSvSWB",
        "outputId": "41f7c9c7-bbc9-4cc9-d795-0b52f1e7c1e5"
      },
      "execution_count": 19,
      "outputs": [
        {
          "output_type": "stream",
          "name": "stdout",
          "text": [
            "No\n"
          ]
        }
      ]
    },
    {
      "cell_type": "markdown",
      "source": [
        "## 10. Print “1” if a is equal to b, print “2” if a is greater than b, otherwise print “3”:"
      ],
      "metadata": {
        "id": "-dPx2rO0wGeJ"
      }
    },
    {
      "cell_type": "code",
      "source": [
        "if a == b:\n",
        "  print(\"1\")\n",
        "elif a > b:\n",
        "  print(\"2\")\n",
        "else:\n",
        "  print(\"3\")"
      ],
      "metadata": {
        "colab": {
          "base_uri": "https://localhost:8080/"
        },
        "id": "VCXTDRtIwRqp",
        "outputId": "3b7516d8-9858-40ce-deaa-41850485cd36"
      },
      "execution_count": 20,
      "outputs": [
        {
          "output_type": "stream",
          "name": "stdout",
          "text": [
            "2\n"
          ]
        }
      ]
    },
    {
      "cell_type": "markdown",
      "source": [
        "## 11. Print “Hello” if a is equal to b, and c is equal to d:"
      ],
      "metadata": {
        "id": "RcfQRfjGMLVJ"
      }
    },
    {
      "cell_type": "code",
      "source": [
        "if a == b and c == d:\n",
        "  print(\"Hello\")"
      ],
      "metadata": {
        "id": "NVqf8m9AMP99"
      },
      "execution_count": 21,
      "outputs": []
    },
    {
      "cell_type": "markdown",
      "source": [
        "## 12. Print “Hello” if either a is equal to b, or c is equal to d:"
      ],
      "metadata": {
        "id": "AwJ6UF3rMgzA"
      }
    },
    {
      "cell_type": "code",
      "source": [
        "if a == b or c == d:\n",
        "  print(\"Hello\")"
      ],
      "metadata": {
        "colab": {
          "base_uri": "https://localhost:8080/"
        },
        "id": "5UzwKfQIMkYQ",
        "outputId": "d66e44fc-836c-401a-8f95-e369368202fa"
      },
      "execution_count": 23,
      "outputs": [
        {
          "output_type": "stream",
          "name": "stdout",
          "text": [
            "Hello\n"
          ]
        }
      ]
    },
    {
      "cell_type": "markdown",
      "source": [
        "## 13. Python Loops: Print i as long as i is less than 6:"
      ],
      "metadata": {
        "id": "E0SUFJVbMvco"
      }
    },
    {
      "cell_type": "code",
      "source": [
        "for i in range(6):\n",
        "  print(i)"
      ],
      "metadata": {
        "colab": {
          "base_uri": "https://localhost:8080/"
        },
        "id": "Eo9YHfBLMwrV",
        "outputId": "43820dae-c897-47e2-96a7-e51f87ff6c8a"
      },
      "execution_count": 25,
      "outputs": [
        {
          "output_type": "stream",
          "name": "stdout",
          "text": [
            "0\n",
            "1\n",
            "2\n",
            "3\n",
            "4\n",
            "5\n"
          ]
        }
      ]
    },
    {
      "cell_type": "markdown",
      "source": [
        "## 14. From #13 stop the loop if i is 3:"
      ],
      "metadata": {
        "id": "LXHOGXb9Nc5l"
      }
    },
    {
      "cell_type": "code",
      "source": [
        "for i in range(6):\n",
        "  if i == 3:\n",
        "    break\n",
        "  print(i)\n",
        "\n",
        "print(\"\\nLoop stop because i is {}\".format(i))"
      ],
      "metadata": {
        "colab": {
          "base_uri": "https://localhost:8080/"
        },
        "id": "UR8DWrhE92vU",
        "outputId": "ab48eab4-ded2-4777-ffa2-b75779147653"
      },
      "execution_count": 7,
      "outputs": [
        {
          "output_type": "stream",
          "name": "stdout",
          "text": [
            "0\n",
            "1\n",
            "2\n",
            "\n",
            "Loop stop because i is 3\n"
          ]
        }
      ]
    }
  ]
}