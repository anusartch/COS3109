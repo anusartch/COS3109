{
  "nbformat": 4,
  "nbformat_minor": 0,
  "metadata": {
    "colab": {
      "name": "COS3109_week1.ipynb",
      "provenance": [],
      "collapsed_sections": [],
      "authorship_tag": "ABX9TyO1UsWVTaX5UgaGGhhGQGEA",
      "include_colab_link": true
    },
    "kernelspec": {
      "name": "python3",
      "display_name": "Python 3"
    },
    "language_info": {
      "name": "python"
    }
  },
  "cells": [
    {
      "cell_type": "markdown",
      "metadata": {
        "id": "view-in-github",
        "colab_type": "text"
      },
      "source": [
        "<a href=\"https://colab.research.google.com/github/anusartch/COS3109_week1/blob/main/COS3109_week1.ipynb\" target=\"_parent\"><img src=\"https://colab.research.google.com/assets/colab-badge.svg\" alt=\"Open In Colab\"/></a>"
      ]
    },
    {
      "cell_type": "markdown",
      "source": [
        "# **Intro to Python**"
      ],
      "metadata": {
        "id": "RG8sEBzQt08D"
      }
    },
    {
      "cell_type": "markdown",
      "source": [
        "## 1. Hello World"
      ],
      "metadata": {
        "id": "AzMtj28oxE6o"
      }
    },
    {
      "cell_type": "code",
      "source": [
        "# Never mind this statement, for compatibility reasons\n",
        "from __future__ import absolute_import, division, print_function, unicode_literals\n",
        "\n",
        "print(\"Hello World\")"
      ],
      "metadata": {
        "colab": {
          "base_uri": "https://localhost:8080/"
        },
        "id": "EBwlm5UiuH16",
        "outputId": "112e0415-73b5-4a0a-80a2-0812a146a095"
      },
      "execution_count": null,
      "outputs": [
        {
          "output_type": "stream",
          "name": "stdout",
          "text": [
            "Hello World\n"
          ]
        }
      ]
    },
    {
      "cell_type": "markdown",
      "source": [
        "## 2. Function, Conditionals, and Iteration"
      ],
      "metadata": {
        "id": "Z4-8JzusVSld"
      }
    },
    {
      "cell_type": "markdown",
      "source": [
        "### Function and Condition"
      ],
      "metadata": {
        "id": "yobkLYI1xWp8"
      }
    },
    {
      "cell_type": "code",
      "source": [
        "def HelloWorldXY(x, y):\n",
        "  if (x < 10):\n",
        "    print(\"Hello World, x was < 10\")\n",
        "  elif (x < 20):\n",
        "    print(\"Hello World, x was >= 10 but < 20\")\n",
        "  else:\n",
        "    print(\"Hello World, x was >= 20\")\n",
        "  return x + y"
      ],
      "metadata": {
        "id": "BvUJv4LJW3pI"
      },
      "execution_count": null,
      "outputs": []
    },
    {
      "cell_type": "code",
      "source": [
        "print(HelloWorldXY(1, 2))"
      ],
      "metadata": {
        "colab": {
          "base_uri": "https://localhost:8080/"
        },
        "id": "IUx6Tbbav5Lm",
        "outputId": "13073e37-46f0-4624-f8a5-eb9cfce9b5b6"
      },
      "execution_count": null,
      "outputs": [
        {
          "output_type": "stream",
          "name": "stdout",
          "text": [
            "Hello World, x was < 10\n",
            "3\n"
          ]
        }
      ]
    },
    {
      "cell_type": "markdown",
      "source": [
        "### Iteration"
      ],
      "metadata": {
        "id": "lJiPH9CsxF8K"
      }
    },
    {
      "cell_type": "code",
      "source": [
        "for i in range(8, 25, 5): # i=8, 13, 18, 23 (start, stop, step)\n",
        "  print(\"--- Now running with i: {}\".format(i))\n",
        "  r = HelloWorldXY(i,i)\n",
        "  print(\"Result from HelloWorld: {}\".format(r))"
      ],
      "metadata": {
        "colab": {
          "base_uri": "https://localhost:8080/"
        },
        "id": "7mCjq4KBxrlk",
        "outputId": "fbe2bd70-3612-4bea-cc0d-5c2db442cdd9"
      },
      "execution_count": null,
      "outputs": [
        {
          "output_type": "stream",
          "name": "stdout",
          "text": [
            "--- Now running with i: 8\n",
            "Hello World, x was < 10\n",
            "Result from HelloWorld: 16\n",
            "--- Now running with i: 13\n",
            "Hello World, x was >= 10 but < 20\n",
            "Result from HelloWorld: 26\n",
            "--- Now running with i: 18\n",
            "Hello World, x was >= 10 but < 20\n",
            "Result from HelloWorld: 36\n",
            "--- Now running with i: 23\n",
            "Hello World, x was >= 20\n",
            "Result from HelloWorld: 46\n"
          ]
        }
      ]
    },
    {
      "cell_type": "markdown",
      "source": [
        "## 3. Various kinds of loops starting at 0 to 2"
      ],
      "metadata": {
        "id": "Iskd_lMO3-Wd"
      }
    },
    {
      "cell_type": "code",
      "source": [
        "print(\"Iterate over the items. `range(2)` is like a list [0,1].\")\n",
        "for i in range(2):\n",
        "  print(i)"
      ],
      "metadata": {
        "colab": {
          "base_uri": "https://localhost:8080/"
        },
        "id": "-U5NXmHR4MZG",
        "outputId": "8b63deec-e7db-4a31-e1c3-1529492bf077"
      },
      "execution_count": null,
      "outputs": [
        {
          "output_type": "stream",
          "name": "stdout",
          "text": [
            "Iterate over the items. `range(2)` is like a list [0,1].\n",
            "0\n",
            "1\n"
          ]
        }
      ]
    },
    {
      "cell_type": "code",
      "source": [
        "print(\"Iterate over an actual list.\")\n",
        "for i in [0,1]:\n",
        "  print(i)"
      ],
      "metadata": {
        "colab": {
          "base_uri": "https://localhost:8080/"
        },
        "id": "6QCzFyGD4VSs",
        "outputId": "6e9cc12f-0461-4232-d49e-64f43923cc24"
      },
      "execution_count": null,
      "outputs": [
        {
          "output_type": "stream",
          "name": "stdout",
          "text": [
            "Iterate over an actual list.\n",
            "0\n",
            "1\n"
          ]
        }
      ]
    },
    {
      "cell_type": "code",
      "source": [
        "print(\"While works\")\n",
        "i = 0\n",
        "while i < 2:\n",
        "  print(i)\n",
        "  i += 1"
      ],
      "metadata": {
        "colab": {
          "base_uri": "https://localhost:8080/"
        },
        "id": "-HsWlPL64Vch",
        "outputId": "11478d97-5667-438e-d850-5d48cdf0c467"
      },
      "execution_count": null,
      "outputs": [
        {
          "output_type": "stream",
          "name": "stdout",
          "text": [
            "While works\n",
            "0\n",
            "1\n"
          ]
        }
      ]
    },
    {
      "cell_type": "markdown",
      "source": [
        "## 4. Numpy and lists"
      ],
      "metadata": {
        "id": "BkbpaVt5470D"
      }
    },
    {
      "cell_type": "markdown",
      "source": [
        "**Numpy** as np is the fundamental package for scientific computing with Python."
      ],
      "metadata": {
        "id": "-jX4sSYt6IdI"
      }
    },
    {
      "cell_type": "markdown",
      "source": [
        "**Lists (Array)** are data structure in Python that is a mutable, or changeable, ordered sequence of elements. Each\n",
        "element or value that is inside of a list is called an item. Just as strings are defined as characters between quotes,\n",
        "lists are defined by having values between square brackets [ ]."
      ],
      "metadata": {
        "id": "t4X2Unwe6PhI"
      }
    },
    {
      "cell_type": "code",
      "source": [
        "sea_creatures = ['shark', 'cuttlefish', 'squid', 'mantis shrimp', 'anemone']"
      ],
      "metadata": {
        "id": "hYpAHii05Ddp"
      },
      "execution_count": null,
      "outputs": []
    },
    {
      "cell_type": "code",
      "source": [
        "sea_creatures[0] = 'sharkkk'\n",
        "sea_creatures[2] = 'squiddd'\n",
        "sea_creatures[4] = 'anemoneee'\n",
        "\n",
        "print(sea_creatures)"
      ],
      "metadata": {
        "colab": {
          "base_uri": "https://localhost:8080/"
        },
        "id": "FBSOGD5P6rhs",
        "outputId": "5b42aa01-28a6-405c-8730-bfc950be5da2"
      },
      "execution_count": null,
      "outputs": [
        {
          "output_type": "stream",
          "name": "stdout",
          "text": [
            "['sharkkk', 'cuttlefish', 'squiddd', 'mantis shrimp', 'anemoneee']\n"
          ]
        }
      ]
    },
    {
      "cell_type": "markdown",
      "source": [
        "### Create a numpy array, and append an element"
      ],
      "metadata": {
        "id": "NfMgVU_nBFVu"
      }
    },
    {
      "cell_type": "code",
      "source": [
        "import numpy as np # Make numpy available using np.\n",
        "\n",
        "# Create a numpy array, and append an element\n",
        "a = np.array([\"Hello\", \"World\"])\n",
        "a = np.append(a, \"!\")\n",
        "print(\"Current array: {}\".format(a))\n",
        "print(\"Printing each element\")\n",
        "for i in a:\n",
        "  print(i)"
      ],
      "metadata": {
        "colab": {
          "base_uri": "https://localhost:8080/"
        },
        "id": "sCAQHkhqBT5B",
        "outputId": "33fce2ab-08d4-48dc-efe2-37661dc05d10"
      },
      "execution_count": null,
      "outputs": [
        {
          "output_type": "stream",
          "name": "stdout",
          "text": [
            "Current array: ['Hello' 'World' '!']\n",
            "Printing each element\n",
            "Hello\n",
            "World\n",
            "!\n"
          ]
        }
      ]
    },
    {
      "cell_type": "code",
      "source": [
        "print(\"Printing each element and their index\")\n",
        "for i, e in enumerate(a):\n",
        "  print(\"Index: {}, was: {}\".format(i, e))"
      ],
      "metadata": {
        "colab": {
          "base_uri": "https://localhost:8080/"
        },
        "id": "3mgqV7e7DO08",
        "outputId": "740096ef-ec70-43ca-9668-56afc78eb331"
      },
      "execution_count": null,
      "outputs": [
        {
          "output_type": "stream",
          "name": "stdout",
          "text": [
            "Printing each element and their index\n",
            "Index: 0, was: Hello\n",
            "Index: 1, was: World\n",
            "Index: 2, was: !\n"
          ]
        }
      ]
    },
    {
      "cell_type": "markdown",
      "source": [
        "### Some basic math on arrays"
      ],
      "metadata": {
        "id": "IzawLgJHD6UD"
      }
    },
    {
      "cell_type": "code",
      "source": [
        "print(\"Showing some basic math on arrays\")\n",
        "b = np.array([0,1,4,3,2])\n",
        "print(\"Max: {}\".format(np.max(b)))\n",
        "print(\"Average: {}\".format(np.average(b)))\n",
        "print(\"Max index: {}\".format(np.argmax(b)))"
      ],
      "metadata": {
        "colab": {
          "base_uri": "https://localhost:8080/"
        },
        "id": "JMM-mWZ-EHwv",
        "outputId": "54886740-df2a-4d8d-aa67-1e098d114a0e"
      },
      "execution_count": null,
      "outputs": [
        {
          "output_type": "stream",
          "name": "stdout",
          "text": [
            "Showing some basic math on arrays\n",
            "Max: 4\n",
            "Average: 2.0\n",
            "Max index: 2\n"
          ]
        }
      ]
    },
    {
      "cell_type": "markdown",
      "source": [
        "### Type and Dimension"
      ],
      "metadata": {
        "id": "jYZbCzLJFB6M"
      }
    },
    {
      "cell_type": "code",
      "source": [
        "print(\"You can print the type of anything\")\n",
        "print(\"Type of b: {}, type of b[0]: {}\".format(type(b), type(b[0])))"
      ],
      "metadata": {
        "colab": {
          "base_uri": "https://localhost:8080/"
        },
        "id": "3WklR3fHE_Ze",
        "outputId": "c1f1622a-9a86-42e0-e7dc-185f7f3d3171"
      },
      "execution_count": null,
      "outputs": [
        {
          "output_type": "stream",
          "name": "stdout",
          "text": [
            "You can print the type of anything\n",
            "Type of b: <class 'numpy.ndarray'>, type of b[0]: <class 'numpy.int64'>\n"
          ]
        }
      ]
    },
    {
      "cell_type": "code",
      "source": [
        "print(\"Use numpy to create a [3,3] dimension array with random number\")\n",
        "c = np.random.rand(3, 3)\n",
        "print(c)"
      ],
      "metadata": {
        "colab": {
          "base_uri": "https://localhost:8080/"
        },
        "id": "f1LUakkMF5Py",
        "outputId": "3c44c876-e1a1-4def-8e78-94b652d15cf2"
      },
      "execution_count": null,
      "outputs": [
        {
          "output_type": "stream",
          "name": "stdout",
          "text": [
            "Use numpy to create a [3,3] dimension array with random number\n",
            "[[0.28601231 0.81665881 0.7093154 ]\n",
            " [0.89658697 0.88163276 0.03485105]\n",
            " [0.07663861 0.1005998  0.65565591]]\n"
          ]
        }
      ]
    },
    {
      "cell_type": "code",
      "source": [
        "print(\"You can print the dimensions of arrays\")\n",
        "print(\"Shape of a: {}\".format(a.shape))\n",
        "print(\"Shape of b: {}\".format(b.shape))\n",
        "print(\"Shape of c: {}\".format(c.shape))"
      ],
      "metadata": {
        "colab": {
          "base_uri": "https://localhost:8080/"
        },
        "id": "qQPRwCgHGlkY",
        "outputId": "71cc1b2c-a8a0-4494-f979-0a629f0cfdcd"
      },
      "execution_count": null,
      "outputs": [
        {
          "output_type": "stream",
          "name": "stdout",
          "text": [
            "You can print the dimensions of arrays\n",
            "Shape of a: (3,)\n",
            "Shape of b: (5,)\n",
            "Shape of c: (3, 3)\n"
          ]
        }
      ]
    },
    {
      "cell_type": "markdown",
      "source": [
        "## 5. Linux commands"
      ],
      "metadata": {
        "id": "UDvvfeqEHWI8"
      }
    },
    {
      "cell_type": "code",
      "source": [
        "print(\"Doing !ls on filesystem\")\n",
        "!ls -l\n",
        "!pwd"
      ],
      "metadata": {
        "colab": {
          "base_uri": "https://localhost:8080/"
        },
        "id": "IqnWppljHmvu",
        "outputId": "5cd80633-0f6c-436e-f7e8-7e7b2fbb5507"
      },
      "execution_count": null,
      "outputs": [
        {
          "output_type": "stream",
          "name": "stdout",
          "text": [
            "Doing !ls on filesystem\n",
            "total 96\n",
            "drwxr-xr-x   1 root root 4096 Jul 13 13:33 bin\n",
            "drwxr-xr-x   2 root root 4096 Apr 24  2018 boot\n",
            "drwxr-xr-x   1 root root 4096 Jul 13 13:43 content\n",
            "drwxr-xr-x   1 root root 4096 Jul 20 13:33 datalab\n",
            "drwxr-xr-x   5 root root  360 Jul 25 14:24 dev\n",
            "drwxr-xr-x   1 root root 4096 Jul 25 14:24 etc\n",
            "drwxr-xr-x   2 root root 4096 Apr 24  2018 home\n",
            "drwxr-xr-x   1 root root 4096 Jul 13 13:34 lib\n",
            "drwxr-xr-x   2 root root 4096 Jul 13 13:21 lib32\n",
            "drwxr-xr-x   1 root root 4096 Jul 13 13:21 lib64\n",
            "drwxr-xr-x   2 root root 4096 Nov 19  2020 media\n",
            "drwxr-xr-x   2 root root 4096 Nov 19  2020 mnt\n",
            "drwxr-xr-x   1 root root 4096 Jul 13 13:36 opt\n",
            "dr-xr-xr-x 170 root root    0 Jul 25 14:24 proc\n",
            "drwxr-xr-x  14 root root 4096 Jul 13 13:35 python-apt\n",
            "drwx------   1 root root 4096 Jul 21 13:24 root\n",
            "drwxr-xr-x   1 root root 4096 Jul 13 13:24 run\n",
            "drwxr-xr-x   1 root root 4096 Jul 25 14:24 sbin\n",
            "drwxr-xr-x   2 root root 4096 Nov 19  2020 srv\n",
            "dr-xr-xr-x  13 root root    0 Jul 25 14:24 sys\n",
            "drwxr-xr-x   3 root root 4096 Jul 20 13:31 tensorflow-1.15.2\n",
            "drwxrwxrwt   1 root root 4096 Jul 25 16:32 tmp\n",
            "drwxr-xr-x   1 root root 4096 Jul 20 13:33 tools\n",
            "drwxr-xr-x   1 root root 4096 Jul 13 13:36 usr\n",
            "drwxr-xr-x   1 root root 4096 Jul 25 14:24 var\n",
            "/\n"
          ]
        }
      ]
    },
    {
      "cell_type": "code",
      "source": [
        "print(\"Install numpy\") # Just for test, numpy is actually preinstalled in all Colab instancs\n",
        "!pip install numpy"
      ],
      "metadata": {
        "colab": {
          "base_uri": "https://localhost:8080/"
        },
        "id": "stl60ka1H07i",
        "outputId": "c93a5aa8-c3e1-4655-f5ea-e1550f59b9e9"
      },
      "execution_count": null,
      "outputs": [
        {
          "output_type": "stream",
          "name": "stdout",
          "text": [
            "Install numpy\n",
            "Looking in indexes: https://pypi.org/simple, https://us-python.pkg.dev/colab-wheels/public/simple/\n",
            "Requirement already satisfied: numpy in /usr/local/lib/python3.7/dist-packages (1.21.6)\n"
          ]
        }
      ]
    },
    {
      "cell_type": "markdown",
      "source": [
        "# **Exercise**"
      ],
      "metadata": {
        "id": "BboCmBelILgX"
      }
    },
    {
      "cell_type": "markdown",
      "source": [
        "## 1. Colab: Create a code cell underneath this text cell and add code to:\n",
        "- List the path of the current directory (pwd)\n",
        "- Go to / (cd) and list the content (ls-l)"
      ],
      "metadata": {
        "id": "AJFwt6VvI7eb"
      }
    },
    {
      "cell_type": "code",
      "source": [
        "from google.colab import drive\n",
        "drive.mount('/content/drive')"
      ],
      "metadata": {
        "id": "Wl44x-S0RxHd"
      },
      "execution_count": null,
      "outputs": []
    },
    {
      "cell_type": "code",
      "source": [
        "!pwd"
      ],
      "metadata": {
        "id": "9nRs9hDRJLLX",
        "colab": {
          "base_uri": "https://localhost:8080/"
        },
        "outputId": "832ca594-b376-47c9-ddfe-07af12f8e411"
      },
      "execution_count": 132,
      "outputs": [
        {
          "output_type": "stream",
          "name": "stdout",
          "text": [
            "/\n"
          ]
        }
      ]
    },
    {
      "cell_type": "code",
      "source": [
        "!cd \"/content/sample_data\"\n",
        "!pwd"
      ],
      "metadata": {
        "colab": {
          "base_uri": "https://localhost:8080/"
        },
        "id": "9q_D4R0IJTlk",
        "outputId": "ebf95a5a-f62c-4330-af20-cec0c526c7c1"
      },
      "execution_count": 140,
      "outputs": [
        {
          "output_type": "stream",
          "name": "stdout",
          "text": [
            "/\n"
          ]
        }
      ]
    }
  ]
}