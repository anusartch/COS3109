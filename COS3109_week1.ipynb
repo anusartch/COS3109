{
  "nbformat": 4,
  "nbformat_minor": 0,
  "metadata": {
    "colab": {
      "name": "COS3109_week1.ipynb",
      "provenance": [],
      "toc_visible": true,
      "authorship_tag": "ABX9TyOpjkpsiDSbd5MGrT9xRHrk",
      "include_colab_link": true
    },
    "kernelspec": {
      "name": "python3",
      "display_name": "Python 3"
    },
    "language_info": {
      "name": "python"
    }
  },
  "cells": [
    {
      "cell_type": "markdown",
      "metadata": {
        "id": "view-in-github",
        "colab_type": "text"
      },
      "source": [
        "<a href=\"https://colab.research.google.com/github/anusartch/COS3109_week1/blob/main/COS3109_week1.ipynb\" target=\"_parent\"><img src=\"https://colab.research.google.com/assets/colab-badge.svg\" alt=\"Open In Colab\"/></a>"
      ]
    },
    {
      "cell_type": "markdown",
      "source": [
        "# Intro to Python"
      ],
      "metadata": {
        "id": "RG8sEBzQt08D"
      }
    },
    {
      "cell_type": "markdown",
      "source": [
        "## 1. Hello World"
      ],
      "metadata": {
        "id": "AzMtj28oxE6o"
      }
    },
    {
      "cell_type": "code",
      "source": [
        "# Never mind this statement, for compatibility reasons\n",
        "from __future__ import absolute_import, division, print_function, unicode_literals\n",
        "\n",
        "print(\"Hello World\")"
      ],
      "metadata": {
        "colab": {
          "base_uri": "https://localhost:8080/"
        },
        "id": "EBwlm5UiuH16",
        "outputId": "112e0415-73b5-4a0a-80a2-0812a146a095"
      },
      "execution_count": null,
      "outputs": [
        {
          "output_type": "stream",
          "name": "stdout",
          "text": [
            "Hello World\n"
          ]
        }
      ]
    },
    {
      "cell_type": "markdown",
      "source": [
        "## 2. Function, Conditionals, and Iteration"
      ],
      "metadata": {
        "id": "Z4-8JzusVSld"
      }
    },
    {
      "cell_type": "markdown",
      "source": [
        "### Function and Condition"
      ],
      "metadata": {
        "id": "yobkLYI1xWp8"
      }
    },
    {
      "cell_type": "code",
      "source": [
        "def HelloWorldXY(x, y):\n",
        "  if (x < 10):\n",
        "    print(\"Hello World, x was < 10\")\n",
        "  elif (x < 20):\n",
        "    print(\"Hello World, x was >= 10 but < 20\")\n",
        "  else:\n",
        "    print(\"Hello World, x was >= 20\")\n",
        "  return x + y"
      ],
      "metadata": {
        "id": "BvUJv4LJW3pI"
      },
      "execution_count": null,
      "outputs": []
    },
    {
      "cell_type": "code",
      "source": [
        "print(HelloWorldXY(1, 2))"
      ],
      "metadata": {
        "colab": {
          "base_uri": "https://localhost:8080/"
        },
        "id": "IUx6Tbbav5Lm",
        "outputId": "13073e37-46f0-4624-f8a5-eb9cfce9b5b6"
      },
      "execution_count": null,
      "outputs": [
        {
          "output_type": "stream",
          "name": "stdout",
          "text": [
            "Hello World, x was < 10\n",
            "3\n"
          ]
        }
      ]
    },
    {
      "cell_type": "markdown",
      "source": [
        "### Iteration"
      ],
      "metadata": {
        "id": "lJiPH9CsxF8K"
      }
    },
    {
      "cell_type": "code",
      "source": [
        "for i in range(8, 25, 5): # i=8, 13, 18, 23 (start, stop, step)\n",
        "  print(\"--- Now running with i: {}\".format(i))\n",
        "  r = HelloWorldXY(i,i)\n",
        "  print(\"Result from HelloWorld: {}\".format(r))"
      ],
      "metadata": {
        "colab": {
          "base_uri": "https://localhost:8080/"
        },
        "id": "7mCjq4KBxrlk",
        "outputId": "fbe2bd70-3612-4bea-cc0d-5c2db442cdd9"
      },
      "execution_count": null,
      "outputs": [
        {
          "output_type": "stream",
          "name": "stdout",
          "text": [
            "--- Now running with i: 8\n",
            "Hello World, x was < 10\n",
            "Result from HelloWorld: 16\n",
            "--- Now running with i: 13\n",
            "Hello World, x was >= 10 but < 20\n",
            "Result from HelloWorld: 26\n",
            "--- Now running with i: 18\n",
            "Hello World, x was >= 10 but < 20\n",
            "Result from HelloWorld: 36\n",
            "--- Now running with i: 23\n",
            "Hello World, x was >= 20\n",
            "Result from HelloWorld: 46\n"
          ]
        }
      ]
    }
  ]
}